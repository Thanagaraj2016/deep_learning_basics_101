{
 "cells": [
  {
   "cell_type": "markdown",
   "metadata": {
    "id": "b253xYKCPpOc"
   },
   "source": [
    "Here is an image of a neural network\n",
    "\n",
    "![image](https://miro.medium.com/v2/resize:fit:1400/format:webp/1*3fA77_mLNiJTSgZFhYnU0Q.png)\n",
    "\n",
    "In practice, this diagram is misleading:\n",
    "- We pass data typically in batches.\n",
    "- Data is represented as a tensor\n",
    "- The neural network itself is represented as a tensor of it’s weights."
   ]
  },
  {
   "cell_type": "markdown",
   "metadata": {
    "id": "lD0fedTRQrSQ"
   },
   "source": [
    "Let's begin by importing libraries"
   ]
  },
  {
   "cell_type": "code",
   "execution_count": null,
   "metadata": {
    "id": "EyyI5L2Xf9G9"
   },
   "outputs": [],
   "source": [
    "import torch\n",
    "import torch.nn as nn\n",
    "import torch.optim as optim\n",
    "from sklearn.model_selection import train_test_split\n",
    "from sklearn.datasets import load_iris\n",
    "from torch.utils.data import DataLoader, TensorDataset"
   ]
  },
  {
   "cell_type": "markdown",
   "metadata": {
    "id": "o3UigwRZQ8n3"
   },
   "source": [
    "Now import the iris dataset. More information about it [here](https://archive.ics.uci.edu/dataset/53/iris)"
   ]
  },
  {
   "cell_type": "code",
   "execution_count": null,
   "metadata": {
    "id": "sBtUGEe_f-8n"
   },
   "outputs": [],
   "source": [
    "# Load Iris dataset\n",
    "iris = load_iris()\n",
    "X = iris.data\n",
    "y = iris.target"
   ]
  },
  {
   "cell_type": "code",
   "execution_count": null,
   "metadata": {
    "colab": {
     "base_uri": "https://localhost:8080/"
    },
    "id": "FZyZ67l_f_RB",
    "outputId": "0be87a1c-e065-449b-db5f-78ab698f7f08"
   },
   "outputs": [
    {
     "data": {
      "text/plain": [
       "((150, 4), (150,))"
      ]
     },
     "execution_count": 3,
     "metadata": {},
     "output_type": "execute_result"
    }
   ],
   "source": [
    "X.shape, y.shape"
   ]
  },
  {
   "cell_type": "code",
   "execution_count": null,
   "metadata": {
    "id": "5LkAG-9ZqDuw"
   },
   "outputs": [],
   "source": [
    "# Split the dataset into training and testing sets. Adding a random seed for reproducibility\n",
    "X_train, X_test, y_train, y_test = train_test_split(X, y, test_size=0.2, random_state=1)"
   ]
  },
  {
   "cell_type": "code",
   "execution_count": null,
   "metadata": {
    "colab": {
     "base_uri": "https://localhost:8080/"
    },
    "id": "x8amY9_TRreT",
    "outputId": "ea7cc78b-6e41-446c-823a-0eba68207840"
   },
   "outputs": [
    {
     "data": {
      "text/plain": [
       "((120, 4), (30, 4), (120,), (30,))"
      ]
     },
     "execution_count": 5,
     "metadata": {},
     "output_type": "execute_result"
    }
   ],
   "source": [
    "X_train.shape, X_test.shape, y_train.shape, y_test.shape"
   ]
  },
  {
   "cell_type": "code",
   "execution_count": null,
   "metadata": {
    "colab": {
     "base_uri": "https://localhost:8080/"
    },
    "id": "AFA3E5UqqGQ3",
    "outputId": "614aa86c-9c82-44ec-eaf9-2646fb09af0f"
   },
   "outputs": [
    {
     "data": {
      "text/plain": [
       "(array([6.1, 3. , 4.6, 1.4]), 1)"
      ]
     },
     "execution_count": 6,
     "metadata": {},
     "output_type": "execute_result"
    }
   ],
   "source": [
    "X_train[0], y_train[0]"
   ]
  },
  {
   "cell_type": "code",
   "execution_count": null,
   "metadata": {
    "id": "B97e4BlqqS68"
   },
   "outputs": [],
   "source": [
    "# Convert NumPy arrays to PyTorch tensors\n",
    "X_train_tensor = torch.FloatTensor(X_train)\n",
    "y_train_tensor = torch.LongTensor(y_train)\n",
    "X_test_tensor = torch.FloatTensor(X_test)\n",
    "y_test_tensor = torch.LongTensor(y_test)"
   ]
  },
  {
   "cell_type": "code",
   "execution_count": null,
   "metadata": {
    "colab": {
     "base_uri": "https://localhost:8080/"
    },
    "id": "Q2IU_SwKR9oy",
    "outputId": "cc860f30-b5b4-4577-ca43-8eae60de8a14"
   },
   "outputs": [
    {
     "data": {
      "text/plain": [
       "(tensor([6.1000, 3.0000, 4.6000, 1.4000]),\n",
       " tensor([6.1000, 3.0000, 4.6000, 1.4000]))"
      ]
     },
     "execution_count": 18,
     "metadata": {},
     "output_type": "execute_result"
    }
   ],
   "source": [
    "X_train_tensor[0], X_train_tensor[0]"
   ]
  },
  {
   "cell_type": "code",
   "execution_count": null,
   "metadata": {
    "colab": {
     "base_uri": "https://localhost:8080/"
    },
    "id": "niBUIf_USHSA",
    "outputId": "71029059-54a0-43dc-fba4-b3cb8b32ff64"
   },
   "outputs": [
    {
     "data": {
      "text/plain": [
       "(numpy.ndarray, numpy.ndarray, torch.Tensor, torch.Tensor)"
      ]
     },
     "execution_count": 9,
     "metadata": {},
     "output_type": "execute_result"
    }
   ],
   "source": [
    "type(X_train), type(y_train), type(X_train_tensor), type(y_train_tensor)"
   ]
  },
  {
   "cell_type": "markdown",
   "metadata": {
    "id": "Rw9_0VPhS_nG"
   },
   "source": [
    "We encapsulate these features and labels into Datasets and DataLoaders\n",
    "- Dataset provides an abstraction for handling features + labels easily\n",
    "- DataLoaders makes the dataset iterable and also allows batching and shuffling of data in the Dataset."
   ]
  },
  {
   "cell_type": "code",
   "execution_count": null,
   "metadata": {
    "id": "VUKBuohvQyZM"
   },
   "outputs": [],
   "source": [
    "batch_size = 5 # passing in 5 X, y pairs through the network at a time for 1 parameter update of network\n",
    "train_dataset = TensorDataset(X_train_tensor, y_train_tensor)\n",
    "test_dataset = TensorDataset(X_test_tensor, y_test_tensor)\n",
    "train_loader = DataLoader(dataset=train_dataset, batch_size=batch_size, shuffle=True)\n",
    "test_loader = DataLoader(dataset=test_dataset, batch_size=batch_size, shuffle=True)"
   ]
  },
  {
   "cell_type": "code",
   "execution_count": null,
   "metadata": {
    "colab": {
     "base_uri": "https://localhost:8080/"
    },
    "id": "T0SYPG16SbQ6",
    "outputId": "34330d40-bdc1-4ac3-a3c3-e58b5f8f16d9"
   },
   "outputs": [
    {
     "data": {
      "text/plain": [
       "<torch.utils.data.dataset.TensorDataset at 0x7dfbbdc6cd30>"
      ]
     },
     "execution_count": 11,
     "metadata": {},
     "output_type": "execute_result"
    }
   ],
   "source": [
    "test_dataset"
   ]
  },
  {
   "cell_type": "markdown",
   "metadata": {
    "id": "IkRmVaC_UO-b"
   },
   "source": [
    "Define the neural network architecture"
   ]
  },
  {
   "cell_type": "code",
   "execution_count": null,
   "metadata": {
    "id": "Uxk6-KiRqVO1"
   },
   "outputs": [],
   "source": [
    "class NeuralNetwork(nn.Module):\n",
    "    def __init__(self, input_size, hidden_size, num_classes):\n",
    "        super(NeuralNetwork, self).__init__()\n",
    "        self.fc1 = nn.Linear(input_size, hidden_size)\n",
    "        self.relu = nn.ReLU()\n",
    "        self.fc2 = nn.Linear(hidden_size, num_classes)\n",
    "\n",
    "    def forward(self, x):\n",
    "        out = self.fc1(x)\n",
    "        out = self.relu(out)\n",
    "        out = self.fc2(out)\n",
    "        return out"
   ]
  },
  {
   "cell_type": "code",
   "execution_count": null,
   "metadata": {
    "colab": {
     "base_uri": "https://localhost:8080/"
    },
    "id": "6Kf4bMUIqYrC",
    "outputId": "8baf8c09-ff34-4683-87b0-37813630210e"
   },
   "outputs": [
    {
     "data": {
      "text/plain": [
       "NeuralNetwork(\n",
       "  (fc1): Linear(in_features=4, out_features=6, bias=True)\n",
       "  (relu): ReLU()\n",
       "  (fc2): Linear(in_features=6, out_features=3, bias=True)\n",
       ")"
      ]
     },
     "execution_count": 13,
     "metadata": {},
     "output_type": "execute_result"
    }
   ],
   "source": [
    "# Hyperparameters\n",
    "input_size = 4  # Number of features in the Iris dataset\n",
    "hidden_size = 6\n",
    "num_classes = 3  # Iris dataset has 3 classes (setosa, versicolor, virginica)\n",
    "learning_rate = 0.001 # How large should the jump in gradient be\n",
    "num_epochs = 1_000 # Number of iterations over the dataset during the training process\n",
    "\n",
    "# Create the neural network\n",
    "model = NeuralNetwork(input_size, hidden_size, num_classes)\n",
    "model"
   ]
  },
  {
   "cell_type": "code",
   "execution_count": null,
   "metadata": {
    "colab": {
     "base_uri": "https://localhost:8080/"
    },
    "id": "I0pciD0trWMr",
    "outputId": "e8e10830-8fb6-4005-9c92-69a9e9d56ddf"
   },
   "outputs": [
    {
     "data": {
      "text/plain": [
       "CrossEntropyLoss()"
      ]
     },
     "execution_count": 14,
     "metadata": {},
     "output_type": "execute_result"
    }
   ],
   "source": [
    "# Loss function\n",
    "criterion = nn.CrossEntropyLoss()\n",
    "criterion"
   ]
  },
  {
   "cell_type": "code",
   "execution_count": null,
   "metadata": {
    "colab": {
     "base_uri": "https://localhost:8080/"
    },
    "id": "iWq7fSjprWcp",
    "outputId": "47b44ab4-9955-499b-9471-a6142f4229f5"
   },
   "outputs": [
    {
     "data": {
      "text/plain": [
       "Adam (\n",
       "Parameter Group 0\n",
       "    amsgrad: False\n",
       "    betas: (0.9, 0.999)\n",
       "    capturable: False\n",
       "    differentiable: False\n",
       "    eps: 1e-08\n",
       "    foreach: None\n",
       "    fused: None\n",
       "    lr: 0.001\n",
       "    maximize: False\n",
       "    weight_decay: 0\n",
       ")"
      ]
     },
     "execution_count": 15,
     "metadata": {},
     "output_type": "execute_result"
    }
   ],
   "source": [
    "# Optimizer\n",
    "optimizer = optim.Adam(model.parameters(), lr=learning_rate)\n",
    "optimizer"
   ]
  },
  {
   "cell_type": "code",
   "execution_count": null,
   "metadata": {
    "colab": {
     "base_uri": "https://localhost:8080/"
    },
    "id": "_Zy1W7swVYEA",
    "outputId": "6019915d-b7a4-49ba-8213-73efebe8699f"
   },
   "outputs": [
    {
     "name": "stdout",
     "output_type": "stream",
     "text": [
      "Epoch [100/1000], Loss: 0.0798\n",
      "torch.Size([5, 4]) torch.Size([5]) tensor(0.0798, grad_fn=<NllLossBackward0>)\n",
      "Epoch [200/1000], Loss: 0.1266\n",
      "torch.Size([5, 4]) torch.Size([5]) tensor(0.1266, grad_fn=<NllLossBackward0>)\n",
      "Epoch [300/1000], Loss: 0.1273\n",
      "torch.Size([5, 4]) torch.Size([5]) tensor(0.1273, grad_fn=<NllLossBackward0>)\n",
      "Epoch [400/1000], Loss: 0.0239\n",
      "torch.Size([5, 4]) torch.Size([5]) tensor(0.0239, grad_fn=<NllLossBackward0>)\n",
      "Epoch [500/1000], Loss: 0.1591\n",
      "torch.Size([5, 4]) torch.Size([5]) tensor(0.1591, grad_fn=<NllLossBackward0>)\n",
      "Epoch [600/1000], Loss: 0.0026\n",
      "torch.Size([5, 4]) torch.Size([5]) tensor(0.0026, grad_fn=<NllLossBackward0>)\n",
      "Epoch [700/1000], Loss: 0.0779\n",
      "torch.Size([5, 4]) torch.Size([5]) tensor(0.0779, grad_fn=<NllLossBackward0>)\n",
      "Epoch [800/1000], Loss: 0.0032\n",
      "torch.Size([5, 4]) torch.Size([5]) tensor(0.0032, grad_fn=<NllLossBackward0>)\n",
      "Epoch [900/1000], Loss: 0.0005\n",
      "torch.Size([5, 4]) torch.Size([5]) tensor(0.0005, grad_fn=<NllLossBackward0>)\n",
      "Epoch [1000/1000], Loss: 0.1468\n",
      "torch.Size([5, 4]) torch.Size([5]) tensor(0.1468, grad_fn=<NllLossBackward0>)\n"
     ]
    }
   ],
   "source": [
    "# Training the model\n",
    "for epoch in range(num_epochs):\n",
    "    for batch_X, batch_y in train_loader:\n",
    "        # Forward pass\n",
    "        outputs = model(batch_X)\n",
    "        loss = criterion(outputs, batch_y)\n",
    "\n",
    "        # Backward and optimize\n",
    "        optimizer.zero_grad() # Clear gradients\n",
    "        loss.backward() # Compute gradients\n",
    "        optimizer.step() # Update parameters of Neural Network\n",
    "\n",
    "    if (epoch + 1) % 100 == 0:\n",
    "        print(f'Epoch [{epoch+1}/{num_epochs}], Loss: {loss.item():.4f}')\n",
    "        print(batch_X.shape, batch_y.shape, loss)"
   ]
  },
  {
   "cell_type": "code",
   "execution_count": null,
   "metadata": {
    "colab": {
     "base_uri": "https://localhost:8080/"
    },
    "id": "vmE2DXfDVlpa",
    "outputId": "4edac660-3737-4f09-a077-77e7f078bbfe"
   },
   "outputs": [
    {
     "name": "stdout",
     "output_type": "stream",
     "text": [
      "Test Accuracy: 1.00\n"
     ]
    }
   ],
   "source": [
    "# Testing the model\n",
    "with torch.no_grad():\n",
    "    model.eval()\n",
    "    correct = 0\n",
    "    total = 0\n",
    "    for batch_X, batch_y in test_loader:\n",
    "        outputs = model(batch_X) # batch_size x 3\n",
    "        _, predicted = torch.max(outputs, 1) # Get the maximum of 3 values for every sample in batch.\n",
    "        total += batch_y.size(0)\n",
    "        correct += (predicted == batch_y).sum().item()\n",
    "\n",
    "    accuracy = correct / total\n",
    "    print(f'Test Accuracy: {accuracy:.2f}')"
   ]
  }
 ],
 "metadata": {
  "colab": {
   "provenance": []
  },
  "kernelspec": {
   "display_name": "Python 3 (ipykernel)",
   "language": "python",
   "name": "python3"
  },
  "language_info": {
   "codemirror_mode": {
    "name": "ipython",
    "version": 3
   },
   "file_extension": ".py",
   "mimetype": "text/x-python",
   "name": "python",
   "nbconvert_exporter": "python",
   "pygments_lexer": "ipython3",
   "version": "3.11.9"
  }
 },
 "nbformat": 4,
 "nbformat_minor": 4
}
